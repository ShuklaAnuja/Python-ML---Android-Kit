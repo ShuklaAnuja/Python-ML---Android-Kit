{
 "cells": [
  {
   "cell_type": "code",
   "execution_count": 7,
   "metadata": {
    "scrolled": true
   },
   "outputs": [
    {
     "name": "stdout",
     "output_type": "stream",
     "text": [
      "INFO:tensorflow:Assets written to: /var/folders/25/y60yvzhs4g7fw0z39g8mf3kr0000gn/T/tmprfwce7q3/assets\n"
     ]
    },
    {
     "name": "stderr",
     "output_type": "stream",
     "text": [
      "INFO:tensorflow:Assets written to: /var/folders/25/y60yvzhs4g7fw0z39g8mf3kr0000gn/T/tmprfwce7q3/assets\n"
     ]
    },
    {
     "data": {
      "text/plain": [
       "1136"
      ]
     },
     "execution_count": 7,
     "metadata": {},
     "output_type": "execute_result"
    }
   ],
   "source": [
    "import tensorflow as tf\n",
    "import numpy as np\n",
    "from tensorflow import keras,lite\n",
    "\n",
    "x = np.array([-1.0,0.0,1.0,2.0,3.0,4.0],dtype=float)\n",
    "y = np.array([-3.0,-1.0,1.0,3.0,5.0,7.0],dtype=float)\n",
    "\n",
    "model = keras.Sequential([keras.layers.Dense(units=1,input_shape=[1]),keras.layers.Dense(units=1,input_shape=[1])])\n",
    "model.compile(optimizer='sgd',loss='mean_squared_error')\n",
    "\n",
    "model.fit(x,y,epochs=500)\n",
    "print(model.predict([10]))\n",
    "\n",
    "keras_file = \"linear.h5\"\n",
    "tf.keras.models.save_model(model,keras_file)\n",
    "converter = lite.TFLiteConverter.from_keras_model(model)\n",
    "tfmodel = converter.convert()\n",
    "\n",
    "open(\"linear.tflite\",\"wb\").write(tfmodel)"
   ]
  },
  {
   "cell_type": "code",
   "execution_count": null,
   "metadata": {},
   "outputs": [],
   "source": []
  }
 ],
 "metadata": {
  "kernelspec": {
   "display_name": "Python 3",
   "language": "python",
   "name": "python3"
  },
  "language_info": {
   "codemirror_mode": {
    "name": "ipython",
    "version": 3
   },
   "file_extension": ".py",
   "mimetype": "text/x-python",
   "name": "python",
   "nbconvert_exporter": "python",
   "pygments_lexer": "ipython3",
   "version": "3.8.3"
  }
 },
 "nbformat": 4,
 "nbformat_minor": 4
}
